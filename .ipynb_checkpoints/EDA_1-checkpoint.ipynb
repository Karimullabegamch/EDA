{
 "cells": [
  {
   "cell_type": "code",
   "execution_count": 1,
   "id": "7915e236-b65d-4476-aa0a-e1e262d406bc",
   "metadata": {
    "scrolled": true
   },
   "outputs": [
    {
     "data": {
      "text/plain": [
       "['ArrowDtype',\n",
       " 'BooleanDtype',\n",
       " 'Categorical',\n",
       " 'CategoricalDtype',\n",
       " 'CategoricalIndex',\n",
       " 'DataFrame',\n",
       " 'DateOffset',\n",
       " 'DatetimeIndex',\n",
       " 'DatetimeTZDtype',\n",
       " 'ExcelFile',\n",
       " 'ExcelWriter',\n",
       " 'Flags',\n",
       " 'Float32Dtype',\n",
       " 'Float64Dtype',\n",
       " 'Grouper',\n",
       " 'HDFStore',\n",
       " 'Index',\n",
       " 'IndexSlice',\n",
       " 'Int16Dtype',\n",
       " 'Int32Dtype',\n",
       " 'Int64Dtype',\n",
       " 'Int8Dtype',\n",
       " 'Interval',\n",
       " 'IntervalDtype',\n",
       " 'IntervalIndex',\n",
       " 'MultiIndex',\n",
       " 'NA',\n",
       " 'NaT',\n",
       " 'NamedAgg',\n",
       " 'Period',\n",
       " 'PeriodDtype',\n",
       " 'PeriodIndex',\n",
       " 'RangeIndex',\n",
       " 'Series',\n",
       " 'SparseDtype',\n",
       " 'StringDtype',\n",
       " 'Timedelta',\n",
       " 'TimedeltaIndex',\n",
       " 'Timestamp',\n",
       " 'UInt16Dtype',\n",
       " 'UInt32Dtype',\n",
       " 'UInt64Dtype',\n",
       " 'UInt8Dtype',\n",
       " '__all__',\n",
       " '__builtins__',\n",
       " '__cached__',\n",
       " '__doc__',\n",
       " '__docformat__',\n",
       " '__file__',\n",
       " '__git_version__',\n",
       " '__loader__',\n",
       " '__name__',\n",
       " '__package__',\n",
       " '__path__',\n",
       " '__spec__',\n",
       " '__version__',\n",
       " '_built_with_meson',\n",
       " '_config',\n",
       " '_is_numpy_dev',\n",
       " '_libs',\n",
       " '_pandas_datetime_CAPI',\n",
       " '_pandas_parser_CAPI',\n",
       " '_testing',\n",
       " '_typing',\n",
       " '_version_meson',\n",
       " 'annotations',\n",
       " 'api',\n",
       " 'array',\n",
       " 'arrays',\n",
       " 'bdate_range',\n",
       " 'compat',\n",
       " 'concat',\n",
       " 'core',\n",
       " 'crosstab',\n",
       " 'cut',\n",
       " 'date_range',\n",
       " 'describe_option',\n",
       " 'errors',\n",
       " 'eval',\n",
       " 'factorize',\n",
       " 'from_dummies',\n",
       " 'get_dummies',\n",
       " 'get_option',\n",
       " 'infer_freq',\n",
       " 'interval_range',\n",
       " 'io',\n",
       " 'isna',\n",
       " 'isnull',\n",
       " 'json_normalize',\n",
       " 'lreshape',\n",
       " 'melt',\n",
       " 'merge',\n",
       " 'merge_asof',\n",
       " 'merge_ordered',\n",
       " 'notna',\n",
       " 'notnull',\n",
       " 'offsets',\n",
       " 'option_context',\n",
       " 'options',\n",
       " 'pandas',\n",
       " 'period_range',\n",
       " 'pivot',\n",
       " 'pivot_table',\n",
       " 'plotting',\n",
       " 'qcut',\n",
       " 'read_clipboard',\n",
       " 'read_csv',\n",
       " 'read_excel',\n",
       " 'read_feather',\n",
       " 'read_fwf',\n",
       " 'read_gbq',\n",
       " 'read_hdf',\n",
       " 'read_html',\n",
       " 'read_json',\n",
       " 'read_orc',\n",
       " 'read_parquet',\n",
       " 'read_pickle',\n",
       " 'read_sas',\n",
       " 'read_spss',\n",
       " 'read_sql',\n",
       " 'read_sql_query',\n",
       " 'read_sql_table',\n",
       " 'read_stata',\n",
       " 'read_table',\n",
       " 'read_xml',\n",
       " 'reset_option',\n",
       " 'set_eng_float_format',\n",
       " 'set_option',\n",
       " 'show_versions',\n",
       " 'test',\n",
       " 'testing',\n",
       " 'timedelta_range',\n",
       " 'to_datetime',\n",
       " 'to_numeric',\n",
       " 'to_pickle',\n",
       " 'to_timedelta',\n",
       " 'tseries',\n",
       " 'unique',\n",
       " 'util',\n",
       " 'value_counts',\n",
       " 'wide_to_long']"
      ]
     },
     "execution_count": 1,
     "metadata": {},
     "output_type": "execute_result"
    }
   ],
   "source": [
    "import pandas as pd\n",
    "dir(pd)"
   ]
  },
  {
   "cell_type": "code",
   "execution_count": 2,
   "id": "a6b6d2aa-2f14-49fe-894f-ac33ff87c0a2",
   "metadata": {},
   "outputs": [
    {
     "ename": "ModuleNotFoundError",
     "evalue": "No module named 'seaborn'",
     "output_type": "error",
     "traceback": [
      "\u001b[0;31m---------------------------------------------------------------------------\u001b[0m",
      "\u001b[0;31mModuleNotFoundError\u001b[0m                       Traceback (most recent call last)",
      "Cell \u001b[0;32mIn[2], line 4\u001b[0m\n\u001b[1;32m      2\u001b[0m \u001b[38;5;28;01mimport\u001b[39;00m\u001b[38;5;250m \u001b[39m\u001b[38;5;21;01mpandas\u001b[39;00m\u001b[38;5;250m \u001b[39m\u001b[38;5;28;01mas\u001b[39;00m\u001b[38;5;250m \u001b[39m\u001b[38;5;21;01mpd\u001b[39;00m\n\u001b[1;32m      3\u001b[0m \u001b[38;5;28;01mimport\u001b[39;00m\u001b[38;5;250m \u001b[39m\u001b[38;5;21;01mmatplotlib\u001b[39;00m\u001b[38;5;21;01m.\u001b[39;00m\u001b[38;5;21;01mpyplot\u001b[39;00m\u001b[38;5;250m \u001b[39m\u001b[38;5;28;01mas\u001b[39;00m\u001b[38;5;250m \u001b[39m\u001b[38;5;21;01mplt\u001b[39;00m\n\u001b[0;32m----> 4\u001b[0m \u001b[38;5;28;01mimport\u001b[39;00m\u001b[38;5;250m \u001b[39m\u001b[38;5;21;01mseaborn\u001b[39;00m\u001b[38;5;250m \u001b[39m\u001b[38;5;28;01mas\u001b[39;00m\u001b[38;5;250m \u001b[39m\u001b[38;5;21;01msns\u001b[39;00m\n",
      "\u001b[0;31mModuleNotFoundError\u001b[0m: No module named 'seaborn'"
     ]
    }
   ],
   "source": [
    "import numpy as np\n",
    "import pandas as pd\n",
    "import matplotlib.pyplot as plt\n",
    "import seaborn as sns"
   ]
  },
  {
   "cell_type": "code",
   "execution_count": null,
   "id": "4de52d83-2903-4b76-9e74-c8c229c75f5f",
   "metadata": {},
   "outputs": [],
   "source": [
    "!pip install matplotlib\n"
   ]
  },
  {
   "cell_type": "code",
   "execution_count": null,
   "id": "4249b6f4-2dff-40d8-907e-49c856908d57",
   "metadata": {},
   "outputs": [],
   "source": [
    "!pip install pandas\n",
    "\n",
    "\n"
   ]
  },
  {
   "cell_type": "code",
   "execution_count": null,
   "id": "653ee703-71d9-49a4-a434-7d5d7ef03eb9",
   "metadata": {},
   "outputs": [],
   "source": [
    "ipl=pd.read_csv('/home/karimulla/Desktop/Python-ws/IPL_2025_Player_Stats_Updated.csv')\n",
    "ipl"
   ]
  },
  {
   "cell_type": "code",
   "execution_count": null,
   "id": "c66c77cb-11f4-4563-a80b-0765dc2a392c",
   "metadata": {},
   "outputs": [],
   "source": [
    "import os\n",
    "os.getcwd()"
   ]
  },
  {
   "cell_type": "code",
   "execution_count": null,
   "id": "98af2207-b323-4e54-b0b0-4923a1639c2a",
   "metadata": {},
   "outputs": [],
   "source": [
    "l=['hardik','rohit','sky']\n",
    "l1=[34,22,12]\n",
    "data=pd.DataFrame(zip(l,l1))\n",
    "data"
   ]
  },
  {
   "cell_type": "code",
   "execution_count": null,
   "id": "cf6856fd-4ae5-4a61-aade-5f723fda6e1f",
   "metadata": {},
   "outputs": [],
   "source": [
    "data.to_csv('ipl_list.csv')"
   ]
  },
  {
   "cell_type": "code",
   "execution_count": null,
   "id": "74004819-b0f8-4c74-ab7d-18f7c793b756",
   "metadata": {},
   "outputs": [],
   "source": [
    "data.to_csv('/home/karimulla/Desktop/Duranc/ProfileG_Onvif\\ipl_list.csv')"
   ]
  },
  {
   "cell_type": "code",
   "execution_count": null,
   "id": "cc2a71ba-0ef8-492c-a313-9d80719d90bd",
   "metadata": {},
   "outputs": [],
   "source": [
    "data=pd.DataFrame(zip(l,l1),columns=['name','runs'])\n",
    "data"
   ]
  },
  {
   "cell_type": "code",
   "execution_count": null,
   "id": "254cdaa6-e6cb-4a0c-837b-2d79f717fde5",
   "metadata": {},
   "outputs": [],
   "source": [
    "data['city']=['gujart','ap','mumbai']\n",
    "data"
   ]
  },
  {
   "cell_type": "code",
   "execution_count": null,
   "id": "a402d644-3398-413f-9999-79954dd3c4cc",
   "metadata": {},
   "outputs": [],
   "source": [
    "data.drop('city',axis=1,inplace=True)"
   ]
  },
  {
   "cell_type": "code",
   "execution_count": null,
   "id": "a600faa3-8db0-47e7-ad47-a830ea462ead",
   "metadata": {},
   "outputs": [],
   "source": [
    "data\n"
   ]
  },
  {
   "cell_type": "code",
   "execution_count": null,
   "id": "d0c45bdf-e707-4fa3-b86c-70bfea518143",
   "metadata": {},
   "outputs": [],
   "source": [
    "data=pd.DataFrame(zip(l,l1),index=['a','b','c'],columns=['names','age'])\n",
    "data"
   ]
  },
  {
   "cell_type": "code",
   "execution_count": null,
   "id": "5ca27aa1-b7d8-4fef-9dfd-ff1e117bf922",
   "metadata": {},
   "outputs": [],
   "source": [
    "data.columns"
   ]
  },
  {
   "cell_type": "code",
   "execution_count": null,
   "id": "bf539b8d-1dad-4a49-b23d-4f724905df6e",
   "metadata": {},
   "outputs": [],
   "source": [
    "data"
   ]
  },
  {
   "cell_type": "code",
   "execution_count": null,
   "id": "8a1cda07-0052-49de-b27a-8aa2b2d0a23d",
   "metadata": {},
   "outputs": [],
   "source": [
    "ipl\n"
   ]
  },
  {
   "cell_type": "code",
   "execution_count": null,
   "id": "2b217991-86bc-481e-9ded-f0eb1eb2c349",
   "metadata": {},
   "outputs": [],
   "source": [
    "ipl.columns\n"
   ]
  },
  {
   "cell_type": "code",
   "execution_count": null,
   "id": "d7f692bf-e253-465f-b2de-e57c44da9293",
   "metadata": {},
   "outputs": [],
   "source": [
    "ipl.take([4,495],axis=0)"
   ]
  },
  {
   "cell_type": "code",
   "execution_count": null,
   "id": "3bad98d5-ab72-410e-b492-253b601078c5",
   "metadata": {},
   "outputs": [],
   "source": [
    "ipl.take([0,3,4],axis=1)"
   ]
  },
  {
   "cell_type": "code",
   "execution_count": null,
   "id": "4e171866-6016-44ec-989a-3a30cbd7f024",
   "metadata": {},
   "outputs": [],
   "source": [
    "ipl"
   ]
  },
  {
   "cell_type": "code",
   "execution_count": null,
   "id": "c180d178-807b-4593-a7a9-9a942baf4783",
   "metadata": {},
   "outputs": [],
   "source": [
    "ipl.iloc[1:10,2:4]"
   ]
  },
  {
   "cell_type": "code",
   "execution_count": null,
   "id": "50a719d5-cba3-43f8-8aef-7d645bd7b0eb",
   "metadata": {},
   "outputs": [],
   "source": [
    "ipl.loc[1:10,'Player']"
   ]
  },
  {
   "cell_type": "code",
   "execution_count": null,
   "id": "00f5ddaf-d1bf-4538-9139-7d2f1f83b77e",
   "metadata": {},
   "outputs": [],
   "source": [
    "ipl.size"
   ]
  },
  {
   "cell_type": "code",
   "execution_count": null,
   "id": "0bb07941-07f9-4e58-9be0-13e2c059e6da",
   "metadata": {},
   "outputs": [],
   "source": [
    "ipl.shape"
   ]
  },
  {
   "cell_type": "code",
   "execution_count": null,
   "id": "1b4d15f8-1f65-49dd-a988-6bb69b75fa76",
   "metadata": {},
   "outputs": [],
   "source": [
    "type(ipl)"
   ]
  },
  {
   "cell_type": "code",
   "execution_count": null,
   "id": "f5b194a1-acc1-45be-9357-e2e4da823ca9",
   "metadata": {},
   "outputs": [],
   "source": [
    "ipl.values"
   ]
  },
  {
   "cell_type": "code",
   "execution_count": null,
   "id": "6095a825-d9d2-4f7a-87c4-ecb39cb4e56d",
   "metadata": {},
   "outputs": [],
   "source": [
    "ipl.info()"
   ]
  },
  {
   "cell_type": "code",
   "execution_count": null,
   "id": "a8ca40d8-de70-4772-8b31-eb3771e19d7e",
   "metadata": {},
   "outputs": [],
   "source": [
    "ipl.index"
   ]
  },
  {
   "cell_type": "code",
   "execution_count": null,
   "id": "a5c17a36-20b1-49c8-8545-f883b63a2cdd",
   "metadata": {},
   "outputs": [],
   "source": [
    "ipl.head(2)"
   ]
  },
  {
   "cell_type": "code",
   "execution_count": null,
   "id": "8e6e6e7c-c219-4d34-950f-fed107a1f909",
   "metadata": {},
   "outputs": [],
   "source": [
    "ipl.head()"
   ]
  },
  {
   "cell_type": "code",
   "execution_count": null,
   "id": "71b134ee-fc0a-4c88-9f57-8cab508c4e2b",
   "metadata": {},
   "outputs": [],
   "source": [
    "ipl.tail()"
   ]
  },
  {
   "cell_type": "code",
   "execution_count": null,
   "id": "b0596980-1083-4add-8b25-dc65f2b7adba",
   "metadata": {},
   "outputs": [],
   "source": [
    "ipl.tail(8)"
   ]
  },
  {
   "cell_type": "code",
   "execution_count": null,
   "id": "c9e0a480-8af8-4453-afe5-b5e19d92591a",
   "metadata": {},
   "outputs": [],
   "source": [
    "ipl.columns\n",
    "type(ipl.columns)"
   ]
  },
  {
   "cell_type": "code",
   "execution_count": null,
   "id": "339f3d2e-e73d-47b7-894c-199a77375294",
   "metadata": {},
   "outputs": [],
   "source": [
    "ipl.columns.unique"
   ]
  },
  {
   "cell_type": "code",
   "execution_count": null,
   "id": "84cfaf45-e2a7-4cb8-a687-97f0e6855e9c",
   "metadata": {},
   "outputs": [],
   "source": [
    "ipl.Team"
   ]
  },
  {
   "cell_type": "code",
   "execution_count": null,
   "id": "283c4c75-c370-4f6d-820e-8fed2a46d4a3",
   "metadata": {},
   "outputs": [],
   "source": [
    "ipl.Team.unique\n",
    "len(ipl['Team'].unique())"
   ]
  },
  {
   "cell_type": "code",
   "execution_count": null,
   "id": "630ae801-5298-419b-a512-f1a12801b5b9",
   "metadata": {},
   "outputs": [],
   "source": [
    "ipl.Team.nunique()"
   ]
  },
  {
   "cell_type": "code",
   "execution_count": null,
   "id": "a83803d8-a9f6-45f0-b7fa-1c2ee3a7d548",
   "metadata": {},
   "outputs": [],
   "source": [
    "ipl['Team']\n",
    "type(ipl['Team'])"
   ]
  },
  {
   "cell_type": "code",
   "execution_count": null,
   "id": "614806f8-a0db-41d0-9bed-7d469f58f342",
   "metadata": {},
   "outputs": [],
   "source": [
    "ipl[['Team']]\n",
    "type(ipl[['Team']])"
   ]
  },
  {
   "cell_type": "code",
   "execution_count": null,
   "id": "ad8a44ee-f054-43da-b5ab-c10471cb059a",
   "metadata": {},
   "outputs": [],
   "source": [
    "ipl"
   ]
  },
  {
   "cell_type": "code",
   "execution_count": null,
   "id": "c2a92e64-c0f5-4548-aaec-783a9bc490ee",
   "metadata": {},
   "outputs": [],
   "source": [
    "ipl['Team'].values"
   ]
  },
  {
   "cell_type": "code",
   "execution_count": null,
   "id": "c20ad599-c872-4626-9bc2-2d6e1dfb184c",
   "metadata": {},
   "outputs": [],
   "source": [
    "ipl['Player']=='Hardik Pandya'"
   ]
  },
  {
   "cell_type": "code",
   "execution_count": null,
   "id": "5a185d8e-65b7-4371-a8ab-8433634af504",
   "metadata": {},
   "outputs": [],
   "source": [
    "ipl[ipl['Player']=='Hardik Pandya']"
   ]
  },
  {
   "cell_type": "code",
   "execution_count": null,
   "id": "c22d79a2-e1a1-4bda-991d-b4cdf49e3fbf",
   "metadata": {},
   "outputs": [],
   "source": [
    "len(ipl[ipl['Player']=='Hardik Pandya'])"
   ]
  },
  {
   "cell_type": "code",
   "execution_count": null,
   "id": "6772c9ae-9e0e-45a3-8cad-0c82c3cfd971",
   "metadata": {},
   "outputs": [],
   "source": [
    "team=ipl['Team'].unique()\n",
    "for i in team:\n",
    "    print('team:',i,'  count:',len(ipl[ipl['Team']==i]))"
   ]
  },
  {
   "cell_type": "code",
   "execution_count": null,
   "id": "ac3fb926-a25d-4155-8e7d-e7e3616c2e82",
   "metadata": {},
   "outputs": [],
   "source": [
    "team=[len(ipl[ipl['Team']==i]) for i in ipl['Team'].unique()]\n",
    "team"
   ]
  },
  {
   "cell_type": "code",
   "execution_count": null,
   "id": "d508da72-465e-4434-9c89-728ca40e8b27",
   "metadata": {},
   "outputs": [],
   "source": [
    "ipl.value_counts()"
   ]
  },
  {
   "cell_type": "code",
   "execution_count": null,
   "id": "7bc84050-45c2-433b-b114-fceef2be24b7",
   "metadata": {},
   "outputs": [],
   "source": [
    "ipl['Team'].value_counts()"
   ]
  },
  {
   "cell_type": "code",
   "execution_count": null,
   "id": "e64ab2f1-c91d-41e5-8d1c-0e5dbff33cd3",
   "metadata": {},
   "outputs": [],
   "source": [
    "team=ipl['Team'].value_counts().keys()\n",
    "count=ipl['Team'].value_counts().values\n",
    "team_df=pd.DataFrame(zip(team,count),columns=['team','count'])\n",
    "team_df"
   ]
  },
  {
   "cell_type": "code",
   "execution_count": null,
   "id": "472698cf-bcd5-4425-bca1-e43c44063e35",
   "metadata": {},
   "outputs": [],
   "source": [
    "dict(ipl['Team'].value_counts())\n",
    "pd.DataFrame(dict(ipl['Team'].value_counts()),index=['count'])"
   ]
  },
  {
   "cell_type": "code",
   "execution_count": 4,
   "id": "425bd410-35a2-456e-9861-6ba2e710b6bb",
   "metadata": {},
   "outputs": [],
   "source": [
    "import matplotlib.pyplot as plt"
   ]
  },
  {
   "cell_type": "code",
   "execution_count": 3,
   "id": "a3ab834b-a88b-41cf-afa1-92ee5121eb4e",
   "metadata": {},
   "outputs": [
    {
     "ename": "NameError",
     "evalue": "name 'pt' is not defined",
     "output_type": "error",
     "traceback": [
      "\u001b[0;31m---------------------------------------------------------------------------\u001b[0m",
      "\u001b[0;31mNameError\u001b[0m                                 Traceback (most recent call last)",
      "Cell \u001b[0;32mIn[3], line 1\u001b[0m\n\u001b[0;32m----> 1\u001b[0m \u001b[43mpt\u001b[49m\u001b[38;5;241m.\u001b[39mbar(team_df)\n",
      "\u001b[0;31mNameError\u001b[0m: name 'pt' is not defined"
     ]
    }
   ],
   "source": [
    "pt.bar(team_df)"
   ]
  }
 ],
 "metadata": {
  "kernelspec": {
   "display_name": "Python 3 (ipykernel)",
   "language": "python",
   "name": "python3"
  },
  "language_info": {
   "codemirror_mode": {
    "name": "ipython",
    "version": 3
   },
   "file_extension": ".py",
   "mimetype": "text/x-python",
   "name": "python",
   "nbconvert_exporter": "python",
   "pygments_lexer": "ipython3",
   "version": "3.10.18"
  }
 },
 "nbformat": 4,
 "nbformat_minor": 5
}
